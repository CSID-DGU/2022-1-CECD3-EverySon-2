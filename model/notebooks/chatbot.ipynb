{
 "cells": [
  {
   "cell_type": "code",
   "execution_count": 22,
   "metadata": {},
   "outputs": [],
   "source": [
    "from typing import Any, Dict, Optional, Tuple, List\n",
    "import torch\n",
    "from pytorch_lightning import LightningDataModule\n",
    "from torch.utils.data import DataLoader, Dataset\n",
    "import pandas as pd\n",
    "from typing import Union\n",
    "import os\n",
    "from transformers import AutoTokenizer\n",
    "from sentence_transformers import SentenceTransformer\n",
    "from tqdm import tqdm\n",
    "import numpy as np"
   ]
  },
  {
   "cell_type": "markdown",
   "metadata": {},
   "source": [
    "### preprocess wellness dataset"
   ]
  },
  {
   "cell_type": "code",
   "execution_count": 4,
   "metadata": {},
   "outputs": [
    {
     "data": {
      "text/html": [
       "<div>\n",
       "<style scoped>\n",
       "    .dataframe tbody tr th:only-of-type {\n",
       "        vertical-align: middle;\n",
       "    }\n",
       "\n",
       "    .dataframe tbody tr th {\n",
       "        vertical-align: top;\n",
       "    }\n",
       "\n",
       "    .dataframe thead th {\n",
       "        text-align: right;\n",
       "    }\n",
       "</style>\n",
       "<table border=\"1\" class=\"dataframe\">\n",
       "  <thead>\n",
       "    <tr style=\"text-align: right;\">\n",
       "      <th></th>\n",
       "      <th>text</th>\n",
       "      <th>answer</th>\n",
       "    </tr>\n",
       "  </thead>\n",
       "  <tbody>\n",
       "    <tr>\n",
       "      <th>0</th>\n",
       "      <td>제 감정이 이상해진 것 같아요. 남편만 보면 화가 치밀어 오르고 감정 조절이 안되요.</td>\n",
       "      <td>감정이 조절이 안 될 때만큼 힘들 때는 없는 거 같아요.</td>\n",
       "    </tr>\n",
       "    <tr>\n",
       "      <th>1</th>\n",
       "      <td>더 이상 내 감정을 내가 컨트롤 못 하겠어.</td>\n",
       "      <td>저도 그 기분 이해해요. 많이 힘드시죠?</td>\n",
       "    </tr>\n",
       "    <tr>\n",
       "      <th>2</th>\n",
       "      <td>하루종일 오르락내리락 롤러코스터 타는 기분이에요.</td>\n",
       "      <td>그럴 때는 밥은 잘 먹었는지, 잠은 잘 잤는지 체크해보는 것도 좋아요.</td>\n",
       "    </tr>\n",
       "    <tr>\n",
       "      <th>3</th>\n",
       "      <td>평소 다른 일을 할 때도 비슷해요. 생각한대로 안되면 화가 나고…그런 상황이 지속되...</td>\n",
       "      <td>화가 폭발할 것 같을 때는 그 자리를 피하는 것도 좋은 방법이라고 생각해요.</td>\n",
       "    </tr>\n",
       "    <tr>\n",
       "      <th>4</th>\n",
       "      <td>예전보다 화내는 게 과격해진 거 같아.</td>\n",
       "      <td>정말 힘드시겠어요. 화는 남에게도 스스로에게도 상처를 주잖아요.</td>\n",
       "    </tr>\n",
       "  </tbody>\n",
       "</table>\n",
       "</div>"
      ],
      "text/plain": [
       "                                                text  \\\n",
       "0    제 감정이 이상해진 것 같아요. 남편만 보면 화가 치밀어 오르고 감정 조절이 안되요.   \n",
       "1                           더 이상 내 감정을 내가 컨트롤 못 하겠어.   \n",
       "2                        하루종일 오르락내리락 롤러코스터 타는 기분이에요.   \n",
       "3  평소 다른 일을 할 때도 비슷해요. 생각한대로 안되면 화가 나고…그런 상황이 지속되...   \n",
       "4                              예전보다 화내는 게 과격해진 거 같아.   \n",
       "\n",
       "                                       answer  \n",
       "0             감정이 조절이 안 될 때만큼 힘들 때는 없는 거 같아요.  \n",
       "1                      저도 그 기분 이해해요. 많이 힘드시죠?  \n",
       "2     그럴 때는 밥은 잘 먹었는지, 잠은 잘 잤는지 체크해보는 것도 좋아요.  \n",
       "3  화가 폭발할 것 같을 때는 그 자리를 피하는 것도 좋은 방법이라고 생각해요.  \n",
       "4         정말 힘드시겠어요. 화는 남에게도 스스로에게도 상처를 주잖아요.  "
      ]
     },
     "execution_count": 4,
     "metadata": {},
     "output_type": "execute_result"
    }
   ],
   "source": [
    "path = \"../data/chatbot/Wellness Conversation Script Dataset/wellness.xlsx\"\n",
    "df = pd.read_excel(path)\n",
    "df.drop('구분', axis=1, inplace=True)\n",
    "df.rename(columns={'유저': 'text','챗봇': 'answer'}, inplace=True)\n",
    "df.dropna(axis=0, inplace=True)\n",
    "df.reset_index(drop=True, inplace=True)\n",
    "df.head()"
   ]
  },
  {
   "cell_type": "code",
   "execution_count": 5,
   "metadata": {},
   "outputs": [],
   "source": [
    "df.to_csv(\"../data/chatbot/Wellness Conversation Script Dataset/wellness.csv\", index=False)"
   ]
  },
  {
   "cell_type": "code",
   "execution_count": 6,
   "metadata": {},
   "outputs": [
    {
     "data": {
      "text/html": [
       "<div>\n",
       "<style scoped>\n",
       "    .dataframe tbody tr th:only-of-type {\n",
       "        vertical-align: middle;\n",
       "    }\n",
       "\n",
       "    .dataframe tbody tr th {\n",
       "        vertical-align: top;\n",
       "    }\n",
       "\n",
       "    .dataframe thead th {\n",
       "        text-align: right;\n",
       "    }\n",
       "</style>\n",
       "<table border=\"1\" class=\"dataframe\">\n",
       "  <thead>\n",
       "    <tr style=\"text-align: right;\">\n",
       "      <th></th>\n",
       "      <th>text</th>\n",
       "      <th>answer</th>\n",
       "    </tr>\n",
       "  </thead>\n",
       "  <tbody>\n",
       "    <tr>\n",
       "      <th>0</th>\n",
       "      <td>제 감정이 이상해진 것 같아요. 남편만 보면 화가 치밀어 오르고 감정 조절이 안되요.</td>\n",
       "      <td>감정이 조절이 안 될 때만큼 힘들 때는 없는 거 같아요.</td>\n",
       "    </tr>\n",
       "    <tr>\n",
       "      <th>1</th>\n",
       "      <td>더 이상 내 감정을 내가 컨트롤 못 하겠어.</td>\n",
       "      <td>저도 그 기분 이해해요. 많이 힘드시죠?</td>\n",
       "    </tr>\n",
       "    <tr>\n",
       "      <th>2</th>\n",
       "      <td>하루종일 오르락내리락 롤러코스터 타는 기분이에요.</td>\n",
       "      <td>그럴 때는 밥은 잘 먹었는지, 잠은 잘 잤는지 체크해보는 것도 좋아요.</td>\n",
       "    </tr>\n",
       "    <tr>\n",
       "      <th>3</th>\n",
       "      <td>평소 다른 일을 할 때도 비슷해요. 생각한대로 안되면 화가 나고…그런 상황이 지속되...</td>\n",
       "      <td>화가 폭발할 것 같을 때는 그 자리를 피하는 것도 좋은 방법이라고 생각해요.</td>\n",
       "    </tr>\n",
       "    <tr>\n",
       "      <th>4</th>\n",
       "      <td>예전보다 화내는 게 과격해진 거 같아.</td>\n",
       "      <td>정말 힘드시겠어요. 화는 남에게도 스스로에게도 상처를 주잖아요.</td>\n",
       "    </tr>\n",
       "  </tbody>\n",
       "</table>\n",
       "</div>"
      ],
      "text/plain": [
       "                                                text  \\\n",
       "0    제 감정이 이상해진 것 같아요. 남편만 보면 화가 치밀어 오르고 감정 조절이 안되요.   \n",
       "1                           더 이상 내 감정을 내가 컨트롤 못 하겠어.   \n",
       "2                        하루종일 오르락내리락 롤러코스터 타는 기분이에요.   \n",
       "3  평소 다른 일을 할 때도 비슷해요. 생각한대로 안되면 화가 나고…그런 상황이 지속되...   \n",
       "4                              예전보다 화내는 게 과격해진 거 같아.   \n",
       "\n",
       "                                       answer  \n",
       "0             감정이 조절이 안 될 때만큼 힘들 때는 없는 거 같아요.  \n",
       "1                      저도 그 기분 이해해요. 많이 힘드시죠?  \n",
       "2     그럴 때는 밥은 잘 먹었는지, 잠은 잘 잤는지 체크해보는 것도 좋아요.  \n",
       "3  화가 폭발할 것 같을 때는 그 자리를 피하는 것도 좋은 방법이라고 생각해요.  \n",
       "4         정말 힘드시겠어요. 화는 남에게도 스스로에게도 상처를 주잖아요.  "
      ]
     },
     "execution_count": 6,
     "metadata": {},
     "output_type": "execute_result"
    }
   ],
   "source": [
    "df2 = pd.read_csv(\"../data/chatbot/Wellness Conversation Script Dataset/wellness.csv\", encoding='utf-8')\n",
    "df2.head()"
   ]
  },
  {
   "cell_type": "code",
   "execution_count": 70,
   "metadata": {},
   "outputs": [
    {
     "name": "stdout",
     "output_type": "stream",
     "text": [
      "answer       object\n",
      "embedding    object\n",
      "dtype: object\n"
     ]
    },
    {
     "data": {
      "text/html": [
       "<div>\n",
       "<style scoped>\n",
       "    .dataframe tbody tr th:only-of-type {\n",
       "        vertical-align: middle;\n",
       "    }\n",
       "\n",
       "    .dataframe tbody tr th {\n",
       "        vertical-align: top;\n",
       "    }\n",
       "\n",
       "    .dataframe thead th {\n",
       "        text-align: right;\n",
       "    }\n",
       "</style>\n",
       "<table border=\"1\" class=\"dataframe\">\n",
       "  <thead>\n",
       "    <tr style=\"text-align: right;\">\n",
       "      <th></th>\n",
       "      <th>answer</th>\n",
       "      <th>embedding</th>\n",
       "    </tr>\n",
       "  </thead>\n",
       "  <tbody>\n",
       "    <tr>\n",
       "      <th>0</th>\n",
       "      <td>감정이 조절이 안 될 때만큼 힘들 때는 없는 거 같아요.</td>\n",
       "      <td>[-0.51023406, -0.3484826, 0.48231104, -0.65767...</td>\n",
       "    </tr>\n",
       "    <tr>\n",
       "      <th>1</th>\n",
       "      <td>저도 그 기분 이해해요. 많이 힘드시죠?</td>\n",
       "      <td>[-1.1405175, -0.15230586, 0.39684805, -0.64085...</td>\n",
       "    </tr>\n",
       "    <tr>\n",
       "      <th>2</th>\n",
       "      <td>그럴 때는 밥은 잘 먹었는지, 잠은 잘 잤는지 체크해보는 것도 좋아요.</td>\n",
       "      <td>[-0.7149122, -0.09625367, 1.1156603, -0.057317...</td>\n",
       "    </tr>\n",
       "    <tr>\n",
       "      <th>3</th>\n",
       "      <td>화가 폭발할 것 같을 때는 그 자리를 피하는 것도 좋은 방법이라고 생각해요.</td>\n",
       "      <td>[-0.690742, 0.35730758, 0.47781637, -0.4919525...</td>\n",
       "    </tr>\n",
       "    <tr>\n",
       "      <th>4</th>\n",
       "      <td>정말 힘드시겠어요. 화는 남에게도 스스로에게도 상처를 주잖아요.</td>\n",
       "      <td>[-0.15590465, -0.35547465, 0.040454123, -0.951...</td>\n",
       "    </tr>\n",
       "  </tbody>\n",
       "</table>\n",
       "</div>"
      ],
      "text/plain": [
       "                                       answer  \\\n",
       "0             감정이 조절이 안 될 때만큼 힘들 때는 없는 거 같아요.   \n",
       "1                      저도 그 기분 이해해요. 많이 힘드시죠?   \n",
       "2     그럴 때는 밥은 잘 먹었는지, 잠은 잘 잤는지 체크해보는 것도 좋아요.   \n",
       "3  화가 폭발할 것 같을 때는 그 자리를 피하는 것도 좋은 방법이라고 생각해요.   \n",
       "4         정말 힘드시겠어요. 화는 남에게도 스스로에게도 상처를 주잖아요.   \n",
       "\n",
       "                                           embedding  \n",
       "0  [-0.51023406, -0.3484826, 0.48231104, -0.65767...  \n",
       "1  [-1.1405175, -0.15230586, 0.39684805, -0.64085...  \n",
       "2  [-0.7149122, -0.09625367, 1.1156603, -0.057317...  \n",
       "3  [-0.690742, 0.35730758, 0.47781637, -0.4919525...  \n",
       "4  [-0.15590465, -0.35547465, 0.040454123, -0.951...  "
      ]
     },
     "execution_count": 70,
     "metadata": {},
     "output_type": "execute_result"
    }
   ],
   "source": [
    "path = '../logs/train/runs/2022-11-02_15-05-53/chatbot_db/chatbot_db.parquet'\n",
    "\n",
    "df = pd.read_parquet(path)\n",
    "print(df.dtypes)\n",
    "df.head()"
   ]
  },
  {
   "cell_type": "code",
   "execution_count": 34,
   "metadata": {},
   "outputs": [
    {
     "name": "stdout",
     "output_type": "stream",
     "text": [
      "[CSV]\n",
      "Write csv time : 1.9682483673095703\n",
      "Read csv time : 0.06273055076599121\n",
      "csv File Size: 12.09 MB\n"
     ]
    }
   ],
   "source": [
    "import pandas as pd \n",
    "import time\n",
    "import torch\n",
    "\n",
    "def convert_size(size_bytes):\n",
    "    import math\n",
    "    if size_bytes == 0:\n",
    "        return \"0B\"\n",
    "    size_name = (\"B\", \"KB\", \"MB\", \"GB\", \"TB\", \"PB\", \"EB\", \"ZB\", \"YB\")\n",
    "    i = int(math.floor(math.log(size_bytes, 1024)))\n",
    "    p = math.pow(1024, i)\n",
    "    s = round(size_bytes / p, 2)\n",
    "    return \"%s %s\" % (s, size_name[i])\n",
    "\n",
    "file = '../logs/train/runs/2022-11-02_15-05-53/chatbot_db/chatbot_db.parquet'\n",
    "df = pd.read_parquet(file)\n",
    "\n",
    "print(\"[CSV]\")\n",
    "start = time.time()\n",
    "df.to_csv(\"./file.csv\", index =False) \n",
    "print(\"Write csv time :\", time.time() - start)\n",
    "\n",
    "start = time.time()\n",
    "df = pd.read_csv(\"./file.csv\")\n",
    "print(\"Read csv time :\", time.time() - start)\n",
    "\n",
    "file_size = os.path.getsize('./file.csv') \n",
    "print('csv File Size:', convert_size(file_size))"
   ]
  },
  {
   "cell_type": "code",
   "execution_count": 32,
   "metadata": {},
   "outputs": [
    {
     "name": "stdout",
     "output_type": "stream",
     "text": [
      "[Pickle]\n",
      "Write pickle time : 0.010529041290283203\n",
      "Read pickle time : 0.007519721984863281\n",
      "csv File Size: 12.09 MB\n"
     ]
    }
   ],
   "source": [
    "import pickle\n",
    "\n",
    "print(\"[Pickle]\")\n",
    "start = time.time()\n",
    "df.to_pickle(\"./file.pkl\") \n",
    "print(\"Write pickle time :\", time.time() - start)\n",
    "\n",
    "start = time.time()\n",
    "df = pd.read_pickle(\"./file.pkl\")\n",
    "print(\"Read pickle time :\", time.time() - start)\n",
    "\n",
    "file_size = os.path.getsize('./file.pkl') \n",
    "print('csv File Size:', convert_size(file_size))"
   ]
  },
  {
   "cell_type": "code",
   "execution_count": 39,
   "metadata": {},
   "outputs": [
    {
     "name": "stdout",
     "output_type": "stream",
     "text": [
      "[Parquet(Snappy)]\n",
      "Write parquet time : 0.06501150131225586\n",
      "Read parquet time : 0.04352164268493652\n",
      "parquet File Size: 7.89 MB\n",
      "\n",
      "[Parquet(gzip)]\n",
      "Write parquet time : 0.584850549697876\n",
      "Read parquet time : 0.05291938781738281\n",
      "parquet File Size: 4.66 MB\n"
     ]
    }
   ],
   "source": [
    "import pandas as pd \n",
    "import time\n",
    "\n",
    "print(\"[Parquet(Snappy)]\")\n",
    "start = time.time()\n",
    "df.to_parquet(\"./file.parquet\", compression=\"snappy\")\n",
    "print(\"Write parquet time :\", time.time() - start)\n",
    " \n",
    "start = time.time()\n",
    "df = pd.read_parquet(\"./file.parquet\")\n",
    "print(\"Read parquet time :\", time.time() - start)\n",
    "\n",
    "file_size = os.path.getsize('./file.parquet') \n",
    "print('parquet File Size:', convert_size(file_size))\n",
    "\n",
    "\n",
    "print(\"\\n[Parquet(gzip)]\")\n",
    "start = time.time()\n",
    "df.to_parquet(\"./file.parquet\", compression=\"gzip\")\n",
    "print(\"Write parquet time :\", time.time() - start)\n",
    " \n",
    "start = time.time()\n",
    "df = pd.read_parquet(\"./file.parquet\")\n",
    "print(\"Read parquet time :\", time.time() - start)\n",
    "\n",
    "file_size = os.path.getsize('./file.parquet') \n",
    "print('parquet File Size:', convert_size(file_size))"
   ]
  }
 ],
 "metadata": {
  "kernelspec": {
   "display_name": "Python 3.10.4 ('everyson')",
   "language": "python",
   "name": "python3"
  },
  "language_info": {
   "codemirror_mode": {
    "name": "ipython",
    "version": 3
   },
   "file_extension": ".py",
   "mimetype": "text/x-python",
   "name": "python",
   "nbconvert_exporter": "python",
   "pygments_lexer": "ipython3",
   "version": "3.10.4"
  },
  "orig_nbformat": 4,
  "vscode": {
   "interpreter": {
    "hash": "3d567a2550442f9dd0c45e5ead528636f20f97129ebaac657d8a245afe575c6a"
   }
  }
 },
 "nbformat": 4,
 "nbformat_minor": 2
}
