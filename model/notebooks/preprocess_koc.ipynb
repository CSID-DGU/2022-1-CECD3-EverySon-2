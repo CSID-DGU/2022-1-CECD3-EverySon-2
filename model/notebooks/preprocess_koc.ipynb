{
 "cells": [
  {
   "cell_type": "code",
   "execution_count": 1,
   "id": "2029d277-ef1f-4488-913e-0f8f06001794",
   "metadata": {},
   "outputs": [],
   "source": [
    "import pandas as pd\n",
    "import numpy as np"
   ]
  },
  {
   "cell_type": "markdown",
   "id": "dd3d72b9-3988-42e1-90cb-5b0ca596a8a8",
   "metadata": {},
   "source": [
    "[한국어 감정 정보가 포함된 단발성 대화 데이터셋](https://aihub.or.kr/opendata/keti-data/recognition-laguage/KETI-02-009)"
   ]
  },
  {
   "cell_type": "code",
   "execution_count": 2,
   "id": "c687f44f-2dbd-4811-b6b2-db90c336b697",
   "metadata": {},
   "outputs": [],
   "source": [
    "full = pd.read_excel('../data/koc/한국어_단발성_대화_데이터셋.xlsx')\n",
    "# drop unused columns\n",
    "full = full.drop(['Unnamed: 2','Unnamed: 3','Unnamed: 4','공포',5468], axis=1)\n",
    "# drop Nan\n",
    "full.dropna(axis=0)\n",
    "# train : val : test = 7 : 1 : 2\n",
    "train, val, test = np.split(full.sample(frac=1, random_state=42),\n",
    "                            [int(.7*len(full)), int(.8*len(full))])"
   ]
  },
  {
   "cell_type": "code",
   "execution_count": 3,
   "id": "ce182566-d782-495f-99aa-247bfe78f4d9",
   "metadata": {},
   "outputs": [
    {
     "name": "stdout",
     "output_type": "stream",
     "text": [
      "train_size : 27015\n",
      "val_size   :  3860\n",
      "test_size  :  7719\n"
     ]
    }
   ],
   "source": [
    "print(f'{\"train_size\":<11}:{len(train):>6}')\n",
    "print(f'{\"val_size\":<11}:{len(val):>6}')\n",
    "print(f'{\"test_size\":<11}:{len(test):>6}')"
   ]
  },
  {
   "cell_type": "code",
   "execution_count": 4,
   "id": "41f067a3-0f57-4894-911f-e18bf35616b0",
   "metadata": {},
   "outputs": [],
   "source": [
    "train.to_csv('../data/koc/train.csv', index=False)\n",
    "val.to_csv('../data/koc/val.csv', index=False)\n",
    "test.to_csv('../data/koc/test.csv', index=False)"
   ]
  }
 ],
 "metadata": {
  "kernelspec": {
   "display_name": "everyson",
   "language": "python",
   "name": "everyson"
  },
  "language_info": {
   "codemirror_mode": {
    "name": "ipython",
    "version": 3
   },
   "file_extension": ".py",
   "mimetype": "text/x-python",
   "name": "python",
   "nbconvert_exporter": "python",
   "pygments_lexer": "ipython3",
   "version": "3.9.12"
  }
 },
 "nbformat": 4,
 "nbformat_minor": 5
}
